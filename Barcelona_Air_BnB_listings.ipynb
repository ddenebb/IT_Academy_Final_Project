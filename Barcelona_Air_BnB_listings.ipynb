{
  "nbformat": 4,
  "nbformat_minor": 0,
  "metadata": {
    "colab": {
      "provenance": [],
      "include_colab_link": true
    },
    "kernelspec": {
      "name": "python3",
      "display_name": "Python 3"
    },
    "language_info": {
      "name": "python"
    }
  },
  "cells": [
    {
      "cell_type": "markdown",
      "metadata": {
        "id": "view-in-github",
        "colab_type": "text"
      },
      "source": [
        "<a href=\"https://colab.research.google.com/github/ddenebb/IT_Academy_Final_Project/blob/V4-oriiginal/Barcelona_Air_BnB_listings.ipynb\" target=\"_parent\"><img src=\"https://colab.research.google.com/assets/colab-badge.svg\" alt=\"Open In Colab\"/></a>"
      ]
    },
    {
      "cell_type": "markdown",
      "source": [
        "In this [link ](https://docs.google.com/spreadsheets/d/1iWCNJcSutYqpULSQHlNyGInUvHg2BoUGoNRIGa6Szc4/edit#gid=1322284596)we can find a dictionary describing the dataset´s fields"
      ],
      "metadata": {
        "id": "y967yo48fIVu"
      }
    },
    {
      "cell_type": "code",
      "execution_count": null,
      "metadata": {
        "colab": {
          "base_uri": "https://localhost:8080/"
        },
        "id": "6LlDj_Wd7TBq",
        "outputId": "7fe8b8d8-7630-4cab-b047-35f4f670a78c"
      },
      "outputs": [
        {
          "output_type": "stream",
          "name": "stdout",
          "text": [
            "Drive already mounted at /content/drive; to attempt to forcibly remount, call drive.mount(\"/content/drive\", force_remount=True).\n",
            "<class 'pandas.core.frame.DataFrame'>\n",
            "RangeIndex: 65583 entries, 0 to 65582\n",
            "Data columns (total 75 columns):\n",
            " #   Column                                        Non-Null Count  Dtype  \n",
            "---  ------                                        --------------  -----  \n",
            " 0   id                                            65583 non-null  int64  \n",
            " 1   listing_url                                   65583 non-null  object \n",
            " 2   scrape_id                                     65583 non-null  int64  \n",
            " 3   last_scraped                                  65583 non-null  object \n",
            " 4   source                                        65583 non-null  object \n",
            " 5   name                                          65555 non-null  object \n",
            " 6   description                                   65221 non-null  object \n",
            " 7   neighborhood_overview                         38203 non-null  object \n",
            " 8   picture_url                                   65583 non-null  object \n",
            " 9   host_id                                       65583 non-null  int64  \n",
            " 10  host_url                                      65583 non-null  object \n",
            " 11  host_name                                     65575 non-null  object \n",
            " 12  host_since                                    65575 non-null  object \n",
            " 13  host_location                                 51219 non-null  object \n",
            " 14  host_about                                    41791 non-null  object \n",
            " 15  host_response_time                            53812 non-null  object \n",
            " 16  host_response_rate                            53812 non-null  object \n",
            " 17  host_acceptance_rate                          55230 non-null  object \n",
            " 18  host_is_superhost                             59535 non-null  object \n",
            " 19  host_thumbnail_url                            65575 non-null  object \n",
            " 20  host_picture_url                              65575 non-null  object \n",
            " 21  host_neighbourhood                            38157 non-null  object \n",
            " 22  host_listings_count                           65575 non-null  float64\n",
            " 23  host_total_listings_count                     65575 non-null  float64\n",
            " 24  host_verifications                            65583 non-null  object \n",
            " 25  host_has_profile_pic                          65575 non-null  object \n",
            " 26  host_identity_verified                        65575 non-null  object \n",
            " 27  neighbourhood                                 38203 non-null  object \n",
            " 28  neighbourhood_cleansed                        65583 non-null  object \n",
            " 29  neighbourhood_group_cleansed                  65583 non-null  object \n",
            " 30  latitude                                      65583 non-null  float64\n",
            " 31  longitude                                     65583 non-null  float64\n",
            " 32  property_type                                 65583 non-null  object \n",
            " 33  room_type                                     65583 non-null  object \n",
            " 34  accommodates                                  65583 non-null  int64  \n",
            " 35  bathrooms                                     0 non-null      float64\n",
            " 36  bathrooms_text                                65546 non-null  object \n",
            " 37  bedrooms                                      57980 non-null  float64\n",
            " 38  beds                                          64409 non-null  float64\n",
            " 39  amenities                                     65583 non-null  object \n",
            " 40  price                                         65583 non-null  object \n",
            " 41  minimum_nights                                65583 non-null  int64  \n",
            " 42  maximum_nights                                65583 non-null  int64  \n",
            " 43  minimum_minimum_nights                        65579 non-null  float64\n",
            " 44  maximum_minimum_nights                        65579 non-null  float64\n",
            " 45  minimum_maximum_nights                        65579 non-null  float64\n",
            " 46  maximum_maximum_nights                        65579 non-null  float64\n",
            " 47  minimum_nights_avg_ntm                        65579 non-null  float64\n",
            " 48  maximum_nights_avg_ntm                        65579 non-null  float64\n",
            " 49  calendar_updated                              0 non-null      float64\n",
            " 50  has_availability                              65583 non-null  object \n",
            " 51  availability_30                               65583 non-null  int64  \n",
            " 52  availability_60                               65583 non-null  int64  \n",
            " 53  availability_90                               65583 non-null  int64  \n",
            " 54  availability_365                              65583 non-null  int64  \n",
            " 55  calendar_last_scraped                         65583 non-null  object \n",
            " 56  number_of_reviews                             65583 non-null  int64  \n",
            " 57  number_of_reviews_ltm                         65583 non-null  int64  \n",
            " 58  number_of_reviews_l30d                        65583 non-null  int64  \n",
            " 59  first_review                                  51181 non-null  object \n",
            " 60  last_review                                   51181 non-null  object \n",
            " 61  review_scores_rating                          51181 non-null  float64\n",
            " 62  review_scores_accuracy                        50812 non-null  float64\n",
            " 63  review_scores_cleanliness                     50816 non-null  float64\n",
            " 64  review_scores_checkin                         50796 non-null  float64\n",
            " 65  review_scores_communication                   50820 non-null  float64\n",
            " 66  review_scores_location                        50798 non-null  float64\n",
            " 67  review_scores_value                           50799 non-null  float64\n",
            " 68  license                                       42100 non-null  object \n",
            " 69  instant_bookable                              65583 non-null  object \n",
            " 70  calculated_host_listings_count                65583 non-null  int64  \n",
            " 71  calculated_host_listings_count_entire_homes   65583 non-null  int64  \n",
            " 72  calculated_host_listings_count_private_rooms  65583 non-null  int64  \n",
            " 73  calculated_host_listings_count_shared_rooms   65583 non-null  int64  \n",
            " 74  reviews_per_month                             51181 non-null  float64\n",
            "dtypes: float64(22), int64(17), object(36)\n",
            "memory usage: 37.5+ MB\n"
          ]
        }
      ],
      "source": [
        "import pandas as pd\n",
        "\n",
        "# Mount Google Drive to access files\n",
        "from google.colab import drive\n",
        "drive.mount('/content/drive')\n",
        "\n",
        "import pandas as pd\n",
        "\n",
        "df1 = pd.read_csv('/content/drive/MyDrive/AAA Final Project DS/Data/listings_10_September_2022.csv')\n",
        "\n",
        "# Load the second listing file\n",
        "df2 = pd.read_csv('/content/drive/MyDrive/AAA Final Project DS/Data/listings_11_December_2022.csv')\n",
        "\n",
        "# Load the third listing file\n",
        "df3 = pd.read_csv('/content/drive/MyDrive/AAA Final Project DS/Data/listings_14_March_2023.csv')\n",
        "\n",
        "# Load the fourth listing file\n",
        "df4 = pd.read_csv('/content/drive/MyDrive/AAA Final Project DS/Data/listings_10_June_2023.csv')\n",
        "\n",
        "# Combine the dataframes into a single dataframe\n",
        "combined_df = pd.concat([df1, df2, df3, df4], ignore_index=True)\n",
        "\n",
        "combined_df.info()"
      ]
    },
    {
      "cell_type": "code",
      "source": [
        "# # Examine the dataset's shape\n",
        "combined_df.shape"
      ],
      "metadata": {
        "colab": {
          "base_uri": "https://localhost:8080/"
        },
        "id": "3_D5jT65UuLX",
        "outputId": "087b8bc9-386b-4f51-cb5f-d0d58a55e108"
      },
      "execution_count": null,
      "outputs": [
        {
          "output_type": "execute_result",
          "data": {
            "text/plain": [
              "(65583, 75)"
            ]
          },
          "metadata": {},
          "execution_count": 68
        }
      ]
    },
    {
      "cell_type": "markdown",
      "source": [
        "The function you provided calculates the percentage of missing data for each column in the DataFrame combined_df. It prints the column name and the corresponding percentage of missing data.\n",
        "\n",
        "To determine at which point you need to consider processing or handling the missing data, it depends on the specific requirements of your analysis and the machine learning models you plan to use."
      ],
      "metadata": {
        "id": "-wzrh5M_rAp2"
      }
    },
    {
      "cell_type": "code",
      "source": [
        "def check_missing_value(column:'str'):\n",
        "    print(f'Percentage of Missing data in \\033[1m\"{column}\"\\033[0m is \\033[1m{round(combined_df[column].isna().sum()/combined_df[column].shape[0] * 100, 2)} %\\033[0m')\n",
        "for x in combined_df.columns:\n",
        "    check_missing_value(x)"
      ],
      "metadata": {
        "colab": {
          "base_uri": "https://localhost:8080/"
        },
        "id": "LEStH9oJTsfg",
        "outputId": "b9bf9cec-6703-4e82-bf4f-4998fcad8f9a"
      },
      "execution_count": null,
      "outputs": [
        {
          "output_type": "stream",
          "name": "stdout",
          "text": [
            "Percentage of Missing data in \u001b[1m\"id\"\u001b[0m is \u001b[1m0.0 %\u001b[0m\n",
            "Percentage of Missing data in \u001b[1m\"listing_url\"\u001b[0m is \u001b[1m0.0 %\u001b[0m\n",
            "Percentage of Missing data in \u001b[1m\"scrape_id\"\u001b[0m is \u001b[1m0.0 %\u001b[0m\n",
            "Percentage of Missing data in \u001b[1m\"last_scraped\"\u001b[0m is \u001b[1m0.0 %\u001b[0m\n",
            "Percentage of Missing data in \u001b[1m\"source\"\u001b[0m is \u001b[1m0.0 %\u001b[0m\n",
            "Percentage of Missing data in \u001b[1m\"name\"\u001b[0m is \u001b[1m0.04 %\u001b[0m\n",
            "Percentage of Missing data in \u001b[1m\"description\"\u001b[0m is \u001b[1m0.55 %\u001b[0m\n",
            "Percentage of Missing data in \u001b[1m\"neighborhood_overview\"\u001b[0m is \u001b[1m41.75 %\u001b[0m\n",
            "Percentage of Missing data in \u001b[1m\"picture_url\"\u001b[0m is \u001b[1m0.0 %\u001b[0m\n",
            "Percentage of Missing data in \u001b[1m\"host_id\"\u001b[0m is \u001b[1m0.0 %\u001b[0m\n",
            "Percentage of Missing data in \u001b[1m\"host_url\"\u001b[0m is \u001b[1m0.0 %\u001b[0m\n",
            "Percentage of Missing data in \u001b[1m\"host_name\"\u001b[0m is \u001b[1m0.01 %\u001b[0m\n",
            "Percentage of Missing data in \u001b[1m\"host_since\"\u001b[0m is \u001b[1m0.01 %\u001b[0m\n",
            "Percentage of Missing data in \u001b[1m\"host_location\"\u001b[0m is \u001b[1m21.9 %\u001b[0m\n",
            "Percentage of Missing data in \u001b[1m\"host_about\"\u001b[0m is \u001b[1m36.28 %\u001b[0m\n",
            "Percentage of Missing data in \u001b[1m\"host_response_time\"\u001b[0m is \u001b[1m17.95 %\u001b[0m\n",
            "Percentage of Missing data in \u001b[1m\"host_response_rate\"\u001b[0m is \u001b[1m17.95 %\u001b[0m\n",
            "Percentage of Missing data in \u001b[1m\"host_acceptance_rate\"\u001b[0m is \u001b[1m15.79 %\u001b[0m\n",
            "Percentage of Missing data in \u001b[1m\"host_is_superhost\"\u001b[0m is \u001b[1m9.22 %\u001b[0m\n",
            "Percentage of Missing data in \u001b[1m\"host_thumbnail_url\"\u001b[0m is \u001b[1m0.01 %\u001b[0m\n",
            "Percentage of Missing data in \u001b[1m\"host_picture_url\"\u001b[0m is \u001b[1m0.01 %\u001b[0m\n",
            "Percentage of Missing data in \u001b[1m\"host_neighbourhood\"\u001b[0m is \u001b[1m41.82 %\u001b[0m\n",
            "Percentage of Missing data in \u001b[1m\"host_listings_count\"\u001b[0m is \u001b[1m0.01 %\u001b[0m\n",
            "Percentage of Missing data in \u001b[1m\"host_total_listings_count\"\u001b[0m is \u001b[1m0.01 %\u001b[0m\n",
            "Percentage of Missing data in \u001b[1m\"host_verifications\"\u001b[0m is \u001b[1m0.0 %\u001b[0m\n",
            "Percentage of Missing data in \u001b[1m\"host_has_profile_pic\"\u001b[0m is \u001b[1m0.01 %\u001b[0m\n",
            "Percentage of Missing data in \u001b[1m\"host_identity_verified\"\u001b[0m is \u001b[1m0.01 %\u001b[0m\n",
            "Percentage of Missing data in \u001b[1m\"neighbourhood\"\u001b[0m is \u001b[1m41.75 %\u001b[0m\n",
            "Percentage of Missing data in \u001b[1m\"neighbourhood_cleansed\"\u001b[0m is \u001b[1m0.0 %\u001b[0m\n",
            "Percentage of Missing data in \u001b[1m\"neighbourhood_group_cleansed\"\u001b[0m is \u001b[1m0.0 %\u001b[0m\n",
            "Percentage of Missing data in \u001b[1m\"latitude\"\u001b[0m is \u001b[1m0.0 %\u001b[0m\n",
            "Percentage of Missing data in \u001b[1m\"longitude\"\u001b[0m is \u001b[1m0.0 %\u001b[0m\n",
            "Percentage of Missing data in \u001b[1m\"property_type\"\u001b[0m is \u001b[1m0.0 %\u001b[0m\n",
            "Percentage of Missing data in \u001b[1m\"room_type\"\u001b[0m is \u001b[1m0.0 %\u001b[0m\n",
            "Percentage of Missing data in \u001b[1m\"accommodates\"\u001b[0m is \u001b[1m0.0 %\u001b[0m\n",
            "Percentage of Missing data in \u001b[1m\"bathrooms\"\u001b[0m is \u001b[1m100.0 %\u001b[0m\n",
            "Percentage of Missing data in \u001b[1m\"bathrooms_text\"\u001b[0m is \u001b[1m0.06 %\u001b[0m\n",
            "Percentage of Missing data in \u001b[1m\"bedrooms\"\u001b[0m is \u001b[1m11.59 %\u001b[0m\n",
            "Percentage of Missing data in \u001b[1m\"beds\"\u001b[0m is \u001b[1m1.79 %\u001b[0m\n",
            "Percentage of Missing data in \u001b[1m\"amenities\"\u001b[0m is \u001b[1m0.0 %\u001b[0m\n",
            "Percentage of Missing data in \u001b[1m\"price\"\u001b[0m is \u001b[1m0.0 %\u001b[0m\n",
            "Percentage of Missing data in \u001b[1m\"minimum_nights\"\u001b[0m is \u001b[1m0.0 %\u001b[0m\n",
            "Percentage of Missing data in \u001b[1m\"maximum_nights\"\u001b[0m is \u001b[1m0.0 %\u001b[0m\n",
            "Percentage of Missing data in \u001b[1m\"minimum_minimum_nights\"\u001b[0m is \u001b[1m0.01 %\u001b[0m\n",
            "Percentage of Missing data in \u001b[1m\"maximum_minimum_nights\"\u001b[0m is \u001b[1m0.01 %\u001b[0m\n",
            "Percentage of Missing data in \u001b[1m\"minimum_maximum_nights\"\u001b[0m is \u001b[1m0.01 %\u001b[0m\n",
            "Percentage of Missing data in \u001b[1m\"maximum_maximum_nights\"\u001b[0m is \u001b[1m0.01 %\u001b[0m\n",
            "Percentage of Missing data in \u001b[1m\"minimum_nights_avg_ntm\"\u001b[0m is \u001b[1m0.01 %\u001b[0m\n",
            "Percentage of Missing data in \u001b[1m\"maximum_nights_avg_ntm\"\u001b[0m is \u001b[1m0.01 %\u001b[0m\n",
            "Percentage of Missing data in \u001b[1m\"calendar_updated\"\u001b[0m is \u001b[1m100.0 %\u001b[0m\n",
            "Percentage of Missing data in \u001b[1m\"has_availability\"\u001b[0m is \u001b[1m0.0 %\u001b[0m\n",
            "Percentage of Missing data in \u001b[1m\"availability_30\"\u001b[0m is \u001b[1m0.0 %\u001b[0m\n",
            "Percentage of Missing data in \u001b[1m\"availability_60\"\u001b[0m is \u001b[1m0.0 %\u001b[0m\n",
            "Percentage of Missing data in \u001b[1m\"availability_90\"\u001b[0m is \u001b[1m0.0 %\u001b[0m\n",
            "Percentage of Missing data in \u001b[1m\"availability_365\"\u001b[0m is \u001b[1m0.0 %\u001b[0m\n",
            "Percentage of Missing data in \u001b[1m\"calendar_last_scraped\"\u001b[0m is \u001b[1m0.0 %\u001b[0m\n",
            "Percentage of Missing data in \u001b[1m\"number_of_reviews\"\u001b[0m is \u001b[1m0.0 %\u001b[0m\n",
            "Percentage of Missing data in \u001b[1m\"number_of_reviews_ltm\"\u001b[0m is \u001b[1m0.0 %\u001b[0m\n",
            "Percentage of Missing data in \u001b[1m\"number_of_reviews_l30d\"\u001b[0m is \u001b[1m0.0 %\u001b[0m\n",
            "Percentage of Missing data in \u001b[1m\"first_review\"\u001b[0m is \u001b[1m21.96 %\u001b[0m\n",
            "Percentage of Missing data in \u001b[1m\"last_review\"\u001b[0m is \u001b[1m21.96 %\u001b[0m\n",
            "Percentage of Missing data in \u001b[1m\"review_scores_rating\"\u001b[0m is \u001b[1m21.96 %\u001b[0m\n",
            "Percentage of Missing data in \u001b[1m\"review_scores_accuracy\"\u001b[0m is \u001b[1m22.52 %\u001b[0m\n",
            "Percentage of Missing data in \u001b[1m\"review_scores_cleanliness\"\u001b[0m is \u001b[1m22.52 %\u001b[0m\n",
            "Percentage of Missing data in \u001b[1m\"review_scores_checkin\"\u001b[0m is \u001b[1m22.55 %\u001b[0m\n",
            "Percentage of Missing data in \u001b[1m\"review_scores_communication\"\u001b[0m is \u001b[1m22.51 %\u001b[0m\n",
            "Percentage of Missing data in \u001b[1m\"review_scores_location\"\u001b[0m is \u001b[1m22.54 %\u001b[0m\n",
            "Percentage of Missing data in \u001b[1m\"review_scores_value\"\u001b[0m is \u001b[1m22.54 %\u001b[0m\n",
            "Percentage of Missing data in \u001b[1m\"license\"\u001b[0m is \u001b[1m35.81 %\u001b[0m\n",
            "Percentage of Missing data in \u001b[1m\"instant_bookable\"\u001b[0m is \u001b[1m0.0 %\u001b[0m\n",
            "Percentage of Missing data in \u001b[1m\"calculated_host_listings_count\"\u001b[0m is \u001b[1m0.0 %\u001b[0m\n",
            "Percentage of Missing data in \u001b[1m\"calculated_host_listings_count_entire_homes\"\u001b[0m is \u001b[1m0.0 %\u001b[0m\n",
            "Percentage of Missing data in \u001b[1m\"calculated_host_listings_count_private_rooms\"\u001b[0m is \u001b[1m0.0 %\u001b[0m\n",
            "Percentage of Missing data in \u001b[1m\"calculated_host_listings_count_shared_rooms\"\u001b[0m is \u001b[1m0.0 %\u001b[0m\n",
            "Percentage of Missing data in \u001b[1m\"reviews_per_month\"\u001b[0m is \u001b[1m21.96 %\u001b[0m\n"
          ]
        }
      ]
    },
    {
      "cell_type": "markdown",
      "source": [
        "Typically, there is no fixed threshold for the percentage of missing data that universally applies to all situations. However, you can consider the following general guidelines:\n",
        "\n",
        "\n",
        "\n",
        "*   Low Missing Data Percentage: If a column has a very low percentage of missing\n",
        "data (e.g., less than 5%), you might choose to simply drop the rows with missing values or use imputation methods to fill in the missing values.\n",
        "*   Moderate Missing Data Percentage: For columns with a moderate percentage of missing data (e.g., between 5% and 20%), you can explore more sophisticated imputation techniques, such as mean or median imputation, regression imputation, or using machine learning models to predict the missing values.\n",
        "\n",
        "*   High Missing Data Percentage: If a column has a high percentage of missing data (e.g., more than 20% or 30%), you may consider removing the column entirely from your analysis, as the missing data might significantly impact the accuracy of the model.\n",
        "\n",
        "It's crucial to assess the nature of missing data and the impact it may have on your analysis. You should also consider the context of the specific dataset and the potential biases that might be introduced by handling missing data in a particular way.\n",
        "\n",
        "Before making any decisions on how to handle missing data, you may also want to analyze the patterns of missingness across different columns. If multiple columns have missing values for the same rows, it may suggest a pattern that requires special consideration.\n",
        "\n",
        "In summary, there is no fixed threshold for handling missing data, and the approach should be driven by the nature of the dataset and the specific analysis goals. Always ensure that any imputation or handling of missing data is well-documented and carefully considered to avoid introducing biases or inaccuracies in your analysis."
      ],
      "metadata": {
        "id": "4Ebm0dhCrId8"
      }
    },
    {
      "cell_type": "code",
      "source": [
        "print(combined_df['price'].dtype)"
      ],
      "metadata": {
        "colab": {
          "base_uri": "https://localhost:8080/"
        },
        "id": "rZqm7zxPqDUw",
        "outputId": "81edee0b-fd88-423b-8c99-dc5ebc870879"
      },
      "execution_count": null,
      "outputs": [
        {
          "output_type": "stream",
          "name": "stdout",
          "text": [
            "object\n"
          ]
        }
      ]
    },
    {
      "cell_type": "code",
      "source": [
        "combined_df['price'] = combined_df['price'].str.replace('$', '').str.replace(',', '').astype(float)\n"
      ],
      "metadata": {
        "colab": {
          "base_uri": "https://localhost:8080/"
        },
        "id": "BL_o9MC8w3_3",
        "outputId": "7b088755-d0bf-45e4-d59c-df4d4aa2a2a6"
      },
      "execution_count": null,
      "outputs": [
        {
          "output_type": "stream",
          "name": "stderr",
          "text": [
            "<ipython-input-71-b766fbdbe8c5>:1: FutureWarning: The default value of regex will change from True to False in a future version. In addition, single character regular expressions will *not* be treated as literal strings when regex=True.\n",
            "  combined_df['price'] = combined_df['price'].str.replace('$', '').str.replace(',', '').astype(float)\n"
          ]
        }
      ]
    },
    {
      "cell_type": "code",
      "source": [
        "print(combined_df['price'].dtype)"
      ],
      "metadata": {
        "colab": {
          "base_uri": "https://localhost:8080/"
        },
        "id": "c4YETs_Bw8Hm",
        "outputId": "6be38e8c-6857-424d-e4c4-f8c2d9f02d05"
      },
      "execution_count": null,
      "outputs": [
        {
          "output_type": "stream",
          "name": "stdout",
          "text": [
            "float64\n"
          ]
        }
      ]
    },
    {
      "cell_type": "code",
      "source": [
        "outlier = combined_df[(combined_df['price'] > 1000)]\n",
        "outlier.count"
      ],
      "metadata": {
        "colab": {
          "base_uri": "https://localhost:8080/"
        },
        "id": "BhUmHL1WAtKM",
        "outputId": "beac0b6c-bf09-4cf4-b959-2dc049b0bb72"
      },
      "execution_count": null,
      "outputs": [
        {
          "output_type": "execute_result",
          "data": {
            "text/plain": [
              "<bound method DataFrame.count of                        id                                      listing_url  \\\n",
              "296                602374              https://www.airbnb.com/rooms/602374   \n",
              "1059              2439285             https://www.airbnb.com/rooms/2439285   \n",
              "1477              4200509             https://www.airbnb.com/rooms/4200509   \n",
              "1842              5793703             https://www.airbnb.com/rooms/5793703   \n",
              "1968              6666212             https://www.airbnb.com/rooms/6666212   \n",
              "...                   ...                                              ...   \n",
              "63382  808538407310687262  https://www.airbnb.com/rooms/808538407310687262   \n",
              "63752  830950455051439372  https://www.airbnb.com/rooms/830950455051439372   \n",
              "64291  851285541984761369  https://www.airbnb.com/rooms/851285541984761369   \n",
              "64338  852056501470483793  https://www.airbnb.com/rooms/852056501470483793   \n",
              "64725  871663364915243450  https://www.airbnb.com/rooms/871663364915243450   \n",
              "\n",
              "            scrape_id last_scraped           source  \\\n",
              "296    20220910194401   2022-09-11      city scrape   \n",
              "1059   20220910194401   2022-09-11  previous scrape   \n",
              "1477   20220910194401   2022-09-10      city scrape   \n",
              "1842   20220910194401   2022-09-11      city scrape   \n",
              "1968   20220910194401   2022-09-10      city scrape   \n",
              "...               ...          ...              ...   \n",
              "63382  20230610001920   2023-06-10      city scrape   \n",
              "63752  20230610001920   2023-06-10      city scrape   \n",
              "64291  20230610001920   2023-06-10      city scrape   \n",
              "64338  20230610001920   2023-06-10      city scrape   \n",
              "64725  20230610001920   2023-06-10      city scrape   \n",
              "\n",
              "                                                    name  \\\n",
              "296              Apartment Sagrada Flia NOT for tourists   \n",
              "1059                       Great roof-top with a Terrace   \n",
              "1477   Villa Victoria Barcelona - Luxury Villa with P...   \n",
              "1842   sf6 6 GROUP APARTMENTS BY SAGRADA FAMILIA OF G...   \n",
              "1968                             Diagonal Mar apartments   \n",
              "...                                                  ...   \n",
              "63382  Rental unit in Barcelona · ★4.67 · 4 bedrooms ...   \n",
              "63752  Rental unit in Barcelona · ★4.80 · 3 bedrooms ...   \n",
              "64291  Serviced apartment in Barcelona · 1 bedroom · ...   \n",
              "64338  Rental unit in Barcelona · ★New · 3 bedrooms ·...   \n",
              "64725  Rental unit in Barcelona · ★New · 5 bedrooms ·...   \n",
              "\n",
              "                                             description  \\\n",
              "296    Private rooms in a pretty shared apartment.<br...   \n",
              "1059   If you like to stay in a beautiful local area ...   \n",
              "1477   Esta hermosa y elegante villa de más de 550 m2...   \n",
              "1842   Beautiful bright and sunny 6 spacious \"ACOMODI...   \n",
              "1968   Two apartments, near to each other in beach zo...   \n",
              "...                                                  ...   \n",
              "63382  This delightful 4-bedroom apartment, can be fo...   \n",
              "63752  This 160m2 spacious 3-bedroom apartment, is lo...   \n",
              "64291  Elegant one-bedroom, one-bathroom apartment wi...   \n",
              "64338  ONLY FOR LONG STAYS (32DAYS+)<br /><br />ONLY ...   \n",
              "64725  Located in an upscale residential area in Barc...   \n",
              "\n",
              "                                   neighborhood_overview  \\\n",
              "296    The apartment is just 5 blocks from the Sagrad...   \n",
              "1059   Our apartments are located in the architectura...   \n",
              "1477   Villa Victoria Barcelona se encuentra a tan só...   \n",
              "1842   This unique area is rich in history, architect...   \n",
              "1968   All apartments are located in very nice and in...   \n",
              "...                                                  ...   \n",
              "63382  Eixample is Catalan for 'extension', meaning a...   \n",
              "63752  Eixample is Catalan for 'extension', meaning a...   \n",
              "64291                                                NaN   \n",
              "64338  You are in a quiet street just one minute from...   \n",
              "64725  La Sagrada Familia - 15 mins by TUBE<br />Plaz...   \n",
              "\n",
              "                                             picture_url   host_id  ...  \\\n",
              "296    https://a0.muscache.com/pictures/69425584/ce91...   2605665  ...   \n",
              "1059   https://a0.muscache.com/pictures/92219613/c73e...   2201772  ...   \n",
              "1477   https://a0.muscache.com/pictures/f9ddd259-aa08...  21793560  ...   \n",
              "1842   https://a0.muscache.com/pictures/a5388282-7439...   1447144  ...   \n",
              "1968   https://a0.muscache.com/pictures/84052970/fd41...   5729069  ...   \n",
              "...                                                  ...       ...  ...   \n",
              "63382  https://a0.muscache.com/pictures/prohost-api/H...   4459553  ...   \n",
              "63752  https://a0.muscache.com/pictures/prohost-api/H...   4459553  ...   \n",
              "64291  https://a0.muscache.com/pictures/miso/Hosting-...   5878688  ...   \n",
              "64338  https://a0.muscache.com/pictures/miso/Hosting-...  13426564  ...   \n",
              "64725  https://a0.muscache.com/pictures/prohost-api/H...   8130906  ...   \n",
              "\n",
              "      review_scores_communication review_scores_location review_scores_value  \\\n",
              "296                           NaN                    NaN                 NaN   \n",
              "1059                         5.00                   4.90                4.70   \n",
              "1477                         5.00                   4.53                4.80   \n",
              "1842                          NaN                    NaN                 NaN   \n",
              "1968                         5.00                   5.00                4.00   \n",
              "...                           ...                    ...                 ...   \n",
              "63382                        4.78                   4.78                4.44   \n",
              "63752                        4.80                   5.00                4.80   \n",
              "64291                        5.00                   5.00                5.00   \n",
              "64338                         NaN                    NaN                 NaN   \n",
              "64725                         NaN                    NaN                 NaN   \n",
              "\n",
              "           license instant_bookable calculated_host_listings_count  \\\n",
              "296            NaN                f                              1   \n",
              "1059    HUTB-04970                t                              8   \n",
              "1477   HUTB-001101                t                              6   \n",
              "1842           NaN                f                            127   \n",
              "1968           NaN                f                             24   \n",
              "...            ...              ...                            ...   \n",
              "63382  HUTB-004894                f                            190   \n",
              "63752  HUTB-004794                f                            190   \n",
              "64291  HUTB-005667                t                             16   \n",
              "64338       Exempt                f                              3   \n",
              "64725  HUTB-009954                t                             33   \n",
              "\n",
              "      calculated_host_listings_count_entire_homes  \\\n",
              "296                                             0   \n",
              "1059                                            8   \n",
              "1477                                            6   \n",
              "1842                                          127   \n",
              "1968                                           24   \n",
              "...                                           ...   \n",
              "63382                                         190   \n",
              "63752                                         190   \n",
              "64291                                          16   \n",
              "64338                                           3   \n",
              "64725                                          32   \n",
              "\n",
              "      calculated_host_listings_count_private_rooms  \\\n",
              "296                                              1   \n",
              "1059                                             0   \n",
              "1477                                             0   \n",
              "1842                                             0   \n",
              "1968                                             0   \n",
              "...                                            ...   \n",
              "63382                                            0   \n",
              "63752                                            0   \n",
              "64291                                            0   \n",
              "64338                                            0   \n",
              "64725                                            0   \n",
              "\n",
              "      calculated_host_listings_count_shared_rooms reviews_per_month  \n",
              "296                                             0               NaN  \n",
              "1059                                            0              0.10  \n",
              "1477                                            0              0.24  \n",
              "1842                                            0               NaN  \n",
              "1968                                            0              0.03  \n",
              "...                                           ...               ...  \n",
              "63382                                           0              2.50  \n",
              "63752                                           0              1.55  \n",
              "64291                                           0              1.00  \n",
              "64338                                           0               NaN  \n",
              "64725                                           0               NaN  \n",
              "\n",
              "[484 rows x 75 columns]>"
            ]
          },
          "metadata": {},
          "execution_count": 73
        }
      ]
    },
    {
      "cell_type": "code",
      "source": [
        "import pandas as pd\n",
        "\n",
        "# Step 1: Convert 'last_scraped' column to datetime for date comparison\n",
        "combined_df['last_scraped'] = pd.to_datetime(combined_df['last_scraped'])\n",
        "\n",
        "# Filter out outdated entries (e.g., listings after September 10, 2022)\n",
        "cutoff_date = pd.to_datetime('2022-09-10')\n",
        "combined_df = combined_df[combined_df['last_scraped'] <= cutoff_date]\n",
        "\n",
        "# Step 2: Remove irrelevant columns (e.g., 'scrape_id', 'source', etc.)\n",
        "columns_to_remove = ['scrape_id', 'source', 'host_url', 'host_thumbnail_url', \"first_review\", \"host_neighbourhood\", \"neighbourhood\", \"bathrooms\", 'calendar_updated', \"last_review\", \"review_scores_rating\" ,\"review_scores_accuracy\" , \"review_scores_cleanliness\", \"review_scores_checkin\", \"review_scores_communication\", \"review_scores_location\", \"review_scores_value\" , \"license\", \"reviews_per_month\"]  # List all irrelevant columns\n",
        "combined_df.drop(columns=columns_to_remove, inplace=True)\n",
        "\n",
        "# Step 3: Filter extreme prices (e.g., prices more than 3 standard deviations from the mean)\n",
        "mean_price = combined_df['price'].mean()\n",
        "std_price = combined_df['price'].std()\n",
        "threshold_price = mean_price + 3 * std_price\n",
        "\n",
        "# Keep listings with prices within the threshold (remove outliers)\n",
        "combined_df = combined_df[combined_df['price'] <= threshold_price]\n",
        "\n",
        "# Optional: If you want to further analyze specific property types, you can filter them too\n",
        "# For example, to keep only 'Entire home/apt' and 'Private room' listings\n",
        "combined_df = combined_df[combined_df['room_type'].isin(['Entire home/apt', 'Private room'])]\n",
        "\n",
        "# Finally, reset the index after filtering\n",
        "combined_df.reset_index(drop=True, inplace=True)\n",
        "\n",
        "# Now, the 'combined_df' DataFrame is cleaned and contains relevant data for further analysis.\n",
        "# You can proceed with model building or other data processing tasks.\n"
      ],
      "metadata": {
        "colab": {
          "base_uri": "https://localhost:8080/"
        },
        "id": "fSVb1nSVuivY",
        "outputId": "da7020d3-f3b7-4455-de07-5e628602d82a"
      },
      "execution_count": null,
      "outputs": [
        {
          "output_type": "stream",
          "name": "stderr",
          "text": [
            "<ipython-input-74-0cca22eaf6ea>:12: SettingWithCopyWarning: \n",
            "A value is trying to be set on a copy of a slice from a DataFrame\n",
            "\n",
            "See the caveats in the documentation: https://pandas.pydata.org/pandas-docs/stable/user_guide/indexing.html#returning-a-view-versus-a-copy\n",
            "  combined_df.drop(columns=columns_to_remove, inplace=True)\n"
          ]
        }
      ]
    },
    {
      "cell_type": "code",
      "source": [
        "combined_df.info()"
      ],
      "metadata": {
        "colab": {
          "base_uri": "https://localhost:8080/"
        },
        "id": "CsdTk9PPvlem",
        "outputId": "4f38fea7-64dc-4667-848e-f9a3deeed6fa"
      },
      "execution_count": null,
      "outputs": [
        {
          "output_type": "stream",
          "name": "stdout",
          "text": [
            "<class 'pandas.core.frame.DataFrame'>\n",
            "RangeIndex: 5611 entries, 0 to 5610\n",
            "Data columns (total 56 columns):\n",
            " #   Column                                        Non-Null Count  Dtype         \n",
            "---  ------                                        --------------  -----         \n",
            " 0   id                                            5611 non-null   int64         \n",
            " 1   listing_url                                   5611 non-null   object        \n",
            " 2   last_scraped                                  5611 non-null   datetime64[ns]\n",
            " 3   name                                          5611 non-null   object        \n",
            " 4   description                                   5587 non-null   object        \n",
            " 5   neighborhood_overview                         3339 non-null   object        \n",
            " 6   picture_url                                   5611 non-null   object        \n",
            " 7   host_id                                       5611 non-null   int64         \n",
            " 8   host_name                                     5611 non-null   object        \n",
            " 9   host_since                                    5611 non-null   object        \n",
            " 10  host_location                                 4392 non-null   object        \n",
            " 11  host_about                                    3542 non-null   object        \n",
            " 12  host_response_time                            5370 non-null   object        \n",
            " 13  host_response_rate                            5370 non-null   object        \n",
            " 14  host_acceptance_rate                          5435 non-null   object        \n",
            " 15  host_is_superhost                             5611 non-null   object        \n",
            " 16  host_picture_url                              5611 non-null   object        \n",
            " 17  host_listings_count                           5611 non-null   float64       \n",
            " 18  host_total_listings_count                     5611 non-null   float64       \n",
            " 19  host_verifications                            5611 non-null   object        \n",
            " 20  host_has_profile_pic                          5611 non-null   object        \n",
            " 21  host_identity_verified                        5611 non-null   object        \n",
            " 22  neighbourhood_cleansed                        5611 non-null   object        \n",
            " 23  neighbourhood_group_cleansed                  5611 non-null   object        \n",
            " 24  latitude                                      5611 non-null   float64       \n",
            " 25  longitude                                     5611 non-null   float64       \n",
            " 26  property_type                                 5611 non-null   object        \n",
            " 27  room_type                                     5611 non-null   object        \n",
            " 28  accommodates                                  5611 non-null   int64         \n",
            " 29  bathrooms_text                                5609 non-null   object        \n",
            " 30  bedrooms                                      5451 non-null   float64       \n",
            " 31  beds                                          5532 non-null   float64       \n",
            " 32  amenities                                     5611 non-null   object        \n",
            " 33  price                                         5611 non-null   float64       \n",
            " 34  minimum_nights                                5611 non-null   int64         \n",
            " 35  maximum_nights                                5611 non-null   int64         \n",
            " 36  minimum_minimum_nights                        5611 non-null   float64       \n",
            " 37  maximum_minimum_nights                        5611 non-null   float64       \n",
            " 38  minimum_maximum_nights                        5611 non-null   float64       \n",
            " 39  maximum_maximum_nights                        5611 non-null   float64       \n",
            " 40  minimum_nights_avg_ntm                        5611 non-null   float64       \n",
            " 41  maximum_nights_avg_ntm                        5611 non-null   float64       \n",
            " 42  has_availability                              5611 non-null   object        \n",
            " 43  availability_30                               5611 non-null   int64         \n",
            " 44  availability_60                               5611 non-null   int64         \n",
            " 45  availability_90                               5611 non-null   int64         \n",
            " 46  availability_365                              5611 non-null   int64         \n",
            " 47  calendar_last_scraped                         5611 non-null   object        \n",
            " 48  number_of_reviews                             5611 non-null   int64         \n",
            " 49  number_of_reviews_ltm                         5611 non-null   int64         \n",
            " 50  number_of_reviews_l30d                        5611 non-null   int64         \n",
            " 51  instant_bookable                              5611 non-null   object        \n",
            " 52  calculated_host_listings_count                5611 non-null   int64         \n",
            " 53  calculated_host_listings_count_entire_homes   5611 non-null   int64         \n",
            " 54  calculated_host_listings_count_private_rooms  5611 non-null   int64         \n",
            " 55  calculated_host_listings_count_shared_rooms   5611 non-null   int64         \n",
            "dtypes: datetime64[ns](1), float64(13), int64(16), object(26)\n",
            "memory usage: 2.4+ MB\n"
          ]
        }
      ]
    },
    {
      "cell_type": "markdown",
      "source": [
        "In this code, the drop() function is used to remove the rows that satisfy the conditions specified in outliers. The .index attribute is used to get the index labels of the rows to be dropped. By passing these index labels to drop(), the rows are deleted from the dataframe.\n",
        "\n",
        "After removing the rows, the index may have gaps due to the deletion. If you want to reset the index to have consecutive integer values, you can use the reset_index() function with the drop=True parameter."
      ],
      "metadata": {
        "id": "mQgxnQpnCvAG"
      }
    },
    {
      "cell_type": "code",
      "source": [
        "# Identify the rows with price > 1000\n",
        "outliers = (combined_df['price'] > 1000)\n",
        "\n",
        "# Remove the identified rows\n",
        "combined_df = combined_df.drop(combined_df[outliers].index)\n",
        "\n",
        "# Reset the index if needed\n",
        "combined_df = combined_df.reset_index(drop=True)\n"
      ],
      "metadata": {
        "id": "tXtgxcrBCuoC"
      },
      "execution_count": null,
      "outputs": []
    },
    {
      "cell_type": "code",
      "source": [
        "column_list = combined_df.columns.tolist()\n",
        "print(column_list)"
      ],
      "metadata": {
        "colab": {
          "base_uri": "https://localhost:8080/"
        },
        "id": "4MVoC1I7YS9y",
        "outputId": "5a0d2a3d-8a98-4654-f285-240becf8872b"
      },
      "execution_count": null,
      "outputs": [
        {
          "output_type": "stream",
          "name": "stdout",
          "text": [
            "['id', 'listing_url', 'last_scraped', 'name', 'description', 'neighborhood_overview', 'picture_url', 'host_id', 'host_name', 'host_since', 'host_location', 'host_about', 'host_response_time', 'host_response_rate', 'host_acceptance_rate', 'host_is_superhost', 'host_picture_url', 'host_listings_count', 'host_total_listings_count', 'host_verifications', 'host_has_profile_pic', 'host_identity_verified', 'neighbourhood_cleansed', 'neighbourhood_group_cleansed', 'latitude', 'longitude', 'property_type', 'room_type', 'accommodates', 'bathrooms_text', 'bedrooms', 'beds', 'amenities', 'price', 'minimum_nights', 'maximum_nights', 'minimum_minimum_nights', 'maximum_minimum_nights', 'minimum_maximum_nights', 'maximum_maximum_nights', 'minimum_nights_avg_ntm', 'maximum_nights_avg_ntm', 'has_availability', 'availability_30', 'availability_60', 'availability_90', 'availability_365', 'calendar_last_scraped', 'number_of_reviews', 'number_of_reviews_ltm', 'number_of_reviews_l30d', 'instant_bookable', 'calculated_host_listings_count', 'calculated_host_listings_count_entire_homes', 'calculated_host_listings_count_private_rooms', 'calculated_host_listings_count_shared_rooms']\n"
          ]
        }
      ]
    },
    {
      "cell_type": "code",
      "source": [
        "# Select the necessary columns for prediction\n",
        "selected_columns = ['id', 'last_scraped', 'price', 'neighbourhood_cleansed', 'latitude', 'longitude', 'property_type', 'room_type', 'accommodates', 'bedrooms', 'bathrooms', 'amenities']\n",
        "df = combined_df[selected_columns]\n",
        "df.info()\n",
        "df\n",
        "\n",
        "\n",
        "\n",
        "\n",
        "\n"
      ],
      "metadata": {
        "colab": {
          "base_uri": "https://localhost:8080/",
          "height": 397
        },
        "id": "n2d5rsmGZi6N",
        "outputId": "8caf9f57-2385-49f7-a277-f55ca10f9c10"
      },
      "execution_count": null,
      "outputs": [
        {
          "output_type": "error",
          "ename": "KeyError",
          "evalue": "ignored",
          "traceback": [
            "\u001b[0;31m---------------------------------------------------------------------------\u001b[0m",
            "\u001b[0;31mKeyError\u001b[0m                                  Traceback (most recent call last)",
            "\u001b[0;32m<ipython-input-78-48eddf505fa2>\u001b[0m in \u001b[0;36m<cell line: 3>\u001b[0;34m()\u001b[0m\n\u001b[1;32m      1\u001b[0m \u001b[0;31m# Select the necessary columns for prediction\u001b[0m\u001b[0;34m\u001b[0m\u001b[0;34m\u001b[0m\u001b[0m\n\u001b[1;32m      2\u001b[0m \u001b[0mselected_columns\u001b[0m \u001b[0;34m=\u001b[0m \u001b[0;34m[\u001b[0m\u001b[0;34m'id'\u001b[0m\u001b[0;34m,\u001b[0m \u001b[0;34m'last_scraped'\u001b[0m\u001b[0;34m,\u001b[0m \u001b[0;34m'price'\u001b[0m\u001b[0;34m,\u001b[0m \u001b[0;34m'neighbourhood_cleansed'\u001b[0m\u001b[0;34m,\u001b[0m \u001b[0;34m'latitude'\u001b[0m\u001b[0;34m,\u001b[0m \u001b[0;34m'longitude'\u001b[0m\u001b[0;34m,\u001b[0m \u001b[0;34m'property_type'\u001b[0m\u001b[0;34m,\u001b[0m \u001b[0;34m'room_type'\u001b[0m\u001b[0;34m,\u001b[0m \u001b[0;34m'accommodates'\u001b[0m\u001b[0;34m,\u001b[0m \u001b[0;34m'bedrooms'\u001b[0m\u001b[0;34m,\u001b[0m \u001b[0;34m'bathrooms'\u001b[0m\u001b[0;34m,\u001b[0m \u001b[0;34m'amenities'\u001b[0m\u001b[0;34m]\u001b[0m\u001b[0;34m\u001b[0m\u001b[0;34m\u001b[0m\u001b[0m\n\u001b[0;32m----> 3\u001b[0;31m \u001b[0mdf\u001b[0m \u001b[0;34m=\u001b[0m \u001b[0mcombined_df\u001b[0m\u001b[0;34m[\u001b[0m\u001b[0mselected_columns\u001b[0m\u001b[0;34m]\u001b[0m\u001b[0;34m\u001b[0m\u001b[0;34m\u001b[0m\u001b[0m\n\u001b[0m\u001b[1;32m      4\u001b[0m \u001b[0mdf\u001b[0m\u001b[0;34m.\u001b[0m\u001b[0minfo\u001b[0m\u001b[0;34m(\u001b[0m\u001b[0;34m)\u001b[0m\u001b[0;34m\u001b[0m\u001b[0;34m\u001b[0m\u001b[0m\n\u001b[1;32m      5\u001b[0m \u001b[0mdf\u001b[0m\u001b[0;34m\u001b[0m\u001b[0;34m\u001b[0m\u001b[0m\n",
            "\u001b[0;32m/usr/local/lib/python3.10/dist-packages/pandas/core/frame.py\u001b[0m in \u001b[0;36m__getitem__\u001b[0;34m(self, key)\u001b[0m\n\u001b[1;32m   3811\u001b[0m             \u001b[0;32mif\u001b[0m \u001b[0mis_iterator\u001b[0m\u001b[0;34m(\u001b[0m\u001b[0mkey\u001b[0m\u001b[0;34m)\u001b[0m\u001b[0;34m:\u001b[0m\u001b[0;34m\u001b[0m\u001b[0;34m\u001b[0m\u001b[0m\n\u001b[1;32m   3812\u001b[0m                 \u001b[0mkey\u001b[0m \u001b[0;34m=\u001b[0m \u001b[0mlist\u001b[0m\u001b[0;34m(\u001b[0m\u001b[0mkey\u001b[0m\u001b[0;34m)\u001b[0m\u001b[0;34m\u001b[0m\u001b[0;34m\u001b[0m\u001b[0m\n\u001b[0;32m-> 3813\u001b[0;31m             \u001b[0mindexer\u001b[0m \u001b[0;34m=\u001b[0m \u001b[0mself\u001b[0m\u001b[0;34m.\u001b[0m\u001b[0mcolumns\u001b[0m\u001b[0;34m.\u001b[0m\u001b[0m_get_indexer_strict\u001b[0m\u001b[0;34m(\u001b[0m\u001b[0mkey\u001b[0m\u001b[0;34m,\u001b[0m \u001b[0;34m\"columns\"\u001b[0m\u001b[0;34m)\u001b[0m\u001b[0;34m[\u001b[0m\u001b[0;36m1\u001b[0m\u001b[0;34m]\u001b[0m\u001b[0;34m\u001b[0m\u001b[0;34m\u001b[0m\u001b[0m\n\u001b[0m\u001b[1;32m   3814\u001b[0m \u001b[0;34m\u001b[0m\u001b[0m\n\u001b[1;32m   3815\u001b[0m         \u001b[0;31m# take() does not accept boolean indexers\u001b[0m\u001b[0;34m\u001b[0m\u001b[0;34m\u001b[0m\u001b[0m\n",
            "\u001b[0;32m/usr/local/lib/python3.10/dist-packages/pandas/core/indexes/base.py\u001b[0m in \u001b[0;36m_get_indexer_strict\u001b[0;34m(self, key, axis_name)\u001b[0m\n\u001b[1;32m   6068\u001b[0m             \u001b[0mkeyarr\u001b[0m\u001b[0;34m,\u001b[0m \u001b[0mindexer\u001b[0m\u001b[0;34m,\u001b[0m \u001b[0mnew_indexer\u001b[0m \u001b[0;34m=\u001b[0m \u001b[0mself\u001b[0m\u001b[0;34m.\u001b[0m\u001b[0m_reindex_non_unique\u001b[0m\u001b[0;34m(\u001b[0m\u001b[0mkeyarr\u001b[0m\u001b[0;34m)\u001b[0m\u001b[0;34m\u001b[0m\u001b[0;34m\u001b[0m\u001b[0m\n\u001b[1;32m   6069\u001b[0m \u001b[0;34m\u001b[0m\u001b[0m\n\u001b[0;32m-> 6070\u001b[0;31m         \u001b[0mself\u001b[0m\u001b[0;34m.\u001b[0m\u001b[0m_raise_if_missing\u001b[0m\u001b[0;34m(\u001b[0m\u001b[0mkeyarr\u001b[0m\u001b[0;34m,\u001b[0m \u001b[0mindexer\u001b[0m\u001b[0;34m,\u001b[0m \u001b[0maxis_name\u001b[0m\u001b[0;34m)\u001b[0m\u001b[0;34m\u001b[0m\u001b[0;34m\u001b[0m\u001b[0m\n\u001b[0m\u001b[1;32m   6071\u001b[0m \u001b[0;34m\u001b[0m\u001b[0m\n\u001b[1;32m   6072\u001b[0m         \u001b[0mkeyarr\u001b[0m \u001b[0;34m=\u001b[0m \u001b[0mself\u001b[0m\u001b[0;34m.\u001b[0m\u001b[0mtake\u001b[0m\u001b[0;34m(\u001b[0m\u001b[0mindexer\u001b[0m\u001b[0;34m)\u001b[0m\u001b[0;34m\u001b[0m\u001b[0;34m\u001b[0m\u001b[0m\n",
            "\u001b[0;32m/usr/local/lib/python3.10/dist-packages/pandas/core/indexes/base.py\u001b[0m in \u001b[0;36m_raise_if_missing\u001b[0;34m(self, key, indexer, axis_name)\u001b[0m\n\u001b[1;32m   6131\u001b[0m \u001b[0;34m\u001b[0m\u001b[0m\n\u001b[1;32m   6132\u001b[0m             \u001b[0mnot_found\u001b[0m \u001b[0;34m=\u001b[0m \u001b[0mlist\u001b[0m\u001b[0;34m(\u001b[0m\u001b[0mensure_index\u001b[0m\u001b[0;34m(\u001b[0m\u001b[0mkey\u001b[0m\u001b[0;34m)\u001b[0m\u001b[0;34m[\u001b[0m\u001b[0mmissing_mask\u001b[0m\u001b[0;34m.\u001b[0m\u001b[0mnonzero\u001b[0m\u001b[0;34m(\u001b[0m\u001b[0;34m)\u001b[0m\u001b[0;34m[\u001b[0m\u001b[0;36m0\u001b[0m\u001b[0;34m]\u001b[0m\u001b[0;34m]\u001b[0m\u001b[0;34m.\u001b[0m\u001b[0munique\u001b[0m\u001b[0;34m(\u001b[0m\u001b[0;34m)\u001b[0m\u001b[0;34m)\u001b[0m\u001b[0;34m\u001b[0m\u001b[0;34m\u001b[0m\u001b[0m\n\u001b[0;32m-> 6133\u001b[0;31m             \u001b[0;32mraise\u001b[0m \u001b[0mKeyError\u001b[0m\u001b[0;34m(\u001b[0m\u001b[0;34mf\"{not_found} not in index\"\u001b[0m\u001b[0;34m)\u001b[0m\u001b[0;34m\u001b[0m\u001b[0;34m\u001b[0m\u001b[0m\n\u001b[0m\u001b[1;32m   6134\u001b[0m \u001b[0;34m\u001b[0m\u001b[0m\n\u001b[1;32m   6135\u001b[0m     \u001b[0;34m@\u001b[0m\u001b[0moverload\u001b[0m\u001b[0;34m\u001b[0m\u001b[0;34m\u001b[0m\u001b[0m\n",
            "\u001b[0;31mKeyError\u001b[0m: \"['bathrooms'] not in index\""
          ]
        }
      ]
    },
    {
      "cell_type": "markdown",
      "source": [
        "Convert Price to Numeric: The 'price' column is currently of object data type. To perform numerical operations and analysis, it's better to convert it to a numeric data type. Remove the dollar sign ($) and any other non-numeric characters, and convert it to a float or integer data type. For example:"
      ],
      "metadata": {
        "id": "93ChWFPviNy8"
      }
    },
    {
      "cell_type": "markdown",
      "source": [
        "Handle Missing Values in Bedrooms: The 'bedrooms' column has some missing values. You can either drop the rows with missing values or fill them with a suitable value (e.g., mean, median, or mode). If you choose to fill the missing values, you can use the fillna() method. For example, to fill with the mean:"
      ],
      "metadata": {
        "id": "r7BPcMnijQCa"
      }
    },
    {
      "cell_type": "code",
      "source": [
        "df['bedrooms'].fillna(df['bedrooms'].mean(), inplace=True)"
      ],
      "metadata": {
        "id": "0LNN_w93jEVW"
      },
      "execution_count": null,
      "outputs": []
    },
    {
      "cell_type": "markdown",
      "source": [
        "Drop Unnecessary Columns: From the provided information, it seems that the 'bathrooms' column contains all missing values (NaN). If this column is not necessary for your analysis, you can drop it using the drop() method:"
      ],
      "metadata": {
        "id": "QAai0UqcjVMd"
      }
    },
    {
      "cell_type": "code",
      "source": [
        "df.drop('bathrooms', axis=1, inplace=True)"
      ],
      "metadata": {
        "id": "2tR5sct8jWka"
      },
      "execution_count": null,
      "outputs": []
    },
    {
      "cell_type": "markdown",
      "source": [
        "Parse Date: If you plan to use the 'last_scraped' column as a temporal feature, you can convert it to a datetime data type using the to_datetime() method:"
      ],
      "metadata": {
        "id": "-wwsmYVzjbzJ"
      }
    },
    {
      "cell_type": "code",
      "source": [
        "df['last_scraped'] = pd.to_datetime(df['last_scraped'])"
      ],
      "metadata": {
        "id": "IGjBMzsejgtF"
      },
      "execution_count": null,
      "outputs": []
    },
    {
      "cell_type": "markdown",
      "source": [
        "Further Feature Engineering: Consider extracting additional information from features like 'amenities' or creating new features based on your domain knowledge. For example, you could extract the number of amenities or create binary columns indicating the presence of specific amenities."
      ],
      "metadata": {
        "id": "fWn-ujIijkdN"
      }
    },
    {
      "cell_type": "code",
      "source": [
        "df['amenities_count'] = df['amenities'].apply(lambda x: len(eval(x)))\n",
        "df['has_pool'] = df['amenities'].str.contains('Pool').astype(int)\n",
        "df['AC'] = df['amenities'].str.contains('Air conditioning').astype(int)\n",
        "# ... add more feature engineering as needed\n"
      ],
      "metadata": {
        "id": "lr4-C4SzjkGz"
      },
      "execution_count": null,
      "outputs": []
    },
    {
      "cell_type": "code",
      "source": [
        "df"
      ],
      "metadata": {
        "id": "xNHYCK-gjubq"
      },
      "execution_count": null,
      "outputs": []
    },
    {
      "cell_type": "markdown",
      "source": [
        "In this code, the 'amenities' from the dataframe df are concatenated into a single string using ' '.join(df['amenities']). Then, the string is split into a list of individual amenities using split(','), assuming that each amenity is separated by a comma.\n",
        "\n",
        "Next, any leading or trailing whitespaces are removed from each amenity using .strip(). Finally, list(set(amenities_list)) is used to get unique amenities by converting the list into a set (which eliminates duplicates) and then back to a list."
      ],
      "metadata": {
        "id": "IItUBfEe08-7"
      }
    },
    {
      "cell_type": "markdown",
      "source": [
        "To assign a unique code to each unique neighborhood, you can create a mapping dictionary where each unique neighborhood is associated with a unique code. Here's an example code snippet:\n",
        "\n",
        "In this code, unique_neighborhoods stores all the unique neighborhood names from the 'neighbourhood_cleansed' column. Then, a dictionary neighborhood_code_map is created, where each unique neighborhood is mapped to a unique code using the enumerate() function.\n",
        "\n",
        "Finally, the map() function is used to map the neighborhood names in the 'neighbourhood_cleansed' column to their respective codes from the neighborhood_code_map dictionary. The codes are then stored in a new column called 'neighborhood_code' in the dataframe df.\n",
        "\n",
        "Now, you can use the 'neighborhood_code' column to represent neighborhoods in the heatmap or any other visualization where numerical codes are required instead of the original neighborhood names."
      ],
      "metadata": {
        "id": "_t9DwDvs6Hyv"
      }
    },
    {
      "cell_type": "code",
      "source": [
        "# Get unique neighborhoods\n",
        "unique_neighborhoods = df['neighbourhood_cleansed'].unique()\n",
        "\n",
        "# Create a mapping dictionary for neighborhood codes\n",
        "neighborhood_code_map = {neighborhood: code for code, neighborhood in enumerate(unique_neighborhoods)}\n",
        "\n",
        "# Add a new column 'neighborhood_code' to the dataframe\n",
        "df['neighborhood_code'] = df['neighbourhood_cleansed'].map(neighborhood_code_map)\n"
      ],
      "metadata": {
        "id": "JeZLFiBO6Gde"
      },
      "execution_count": null,
      "outputs": []
    },
    {
      "cell_type": "markdown",
      "source": [
        " As I have the neighborhood code as a representative of the neighborhoods, I can remove the 'latitude' and 'longitude' columns from the dataframe:"
      ],
      "metadata": {
        "id": "YrpRpVuv7TSw"
      }
    },
    {
      "cell_type": "code",
      "source": [
        "# Drop latitude and longitude columns\n",
        "df.drop(['latitude', 'longitude'], axis=1, inplace=True)"
      ],
      "metadata": {
        "id": "07PfpZj77agX"
      },
      "execution_count": null,
      "outputs": []
    },
    {
      "cell_type": "code",
      "source": [
        "# Concatenate all amenities into a single string\n",
        "all_amenities = ' '.join(df['amenities'])\n",
        "\n",
        "# Split the string by commas and remove leading/trailing whitespaces\n",
        "amenities_list = [amenity.strip() for amenity in all_amenities.split(',')]\n",
        "\n",
        "# Get unique amenities\n",
        "unique_amenities = list(set(amenities_list))\n",
        "\n",
        "# Print the unique amenities\n",
        "print(unique_amenities)"
      ],
      "metadata": {
        "id": "Qx0SUKs007lu"
      },
      "execution_count": null,
      "outputs": []
    },
    {
      "cell_type": "code",
      "source": [
        "import matplotlib.pyplot as plt\n",
        "import seaborn as sns\n",
        "\n",
        "# Explore the dataset\n",
        "print(df.info())  # Display information about the dataset, such as column names and data types\n",
        "print(df.describe())  # Get summary statistics of numerical columns\n",
        "\n",
        "# Correlation analysis\n",
        "correlation = df.corr()\n",
        "plt.figure(figsize=(10, 8))\n",
        "sns.heatmap(correlation, annot=True, cmap='coolwarm')\n",
        "plt.title('Correlation Heatmap')\n",
        "plt.show()\n",
        "\n",
        "# Distribution of the target variable (price)\n",
        "plt.figure(figsize=(8, 6))\n",
        "sns.histplot(df['price'], kde=True)\n",
        "plt.title('Distribution of Price')\n",
        "plt.xlabel('Price')\n",
        "plt.ylabel('Count')\n",
        "plt.show()\n",
        "\n",
        "# Visualize relationships between variables\n",
        "plt.figure(figsize=(10, 8))\n",
        "sns.scatterplot(data=df, x='accommodates', y='price')\n",
        "plt.title('Price vs. Number of Passengers')\n",
        "plt.show()\n",
        "\n",
        "# Continue with more exploratory analysis and visualization as per your requirements\n"
      ],
      "metadata": {
        "id": "38i1mnIS35Ea"
      },
      "execution_count": null,
      "outputs": []
    },
    {
      "cell_type": "markdown",
      "source": [
        "I am observing that the distribution of prices is tightly concentrated around 0, while the maximum value in the graphic is 80000, it could indicate the presence of outliers or incorrect data in the 'price' column. To further investigate this issue:\n",
        "Check for outliers: Examine the distribution of prices to identify any extreme values or outliers. Plotting a box plot can be helpful in visualizing the distribution and identifying any outliers."
      ],
      "metadata": {
        "id": "i4jO-LTk782X"
      }
    },
    {
      "cell_type": "code",
      "source": [
        "# Set the seaborn theme and palette\n",
        "sns.set_theme(style=\"ticks\", palette=\"pastel\")\n",
        "\n",
        "# Adjust figure size\n",
        "plt.figure(figsize=(12, 6))\n",
        "\n",
        "# Draw the nested boxplot\n",
        "sns.boxplot(x=\"bedrooms\", y=\"price\",\n",
        "            palette=\"Set2\",\n",
        "            data=df)\n",
        "sns.despine(offset=10, trim=True)\n",
        "\n",
        "# Adjust plot title and axes labels\n",
        "plt.title('Nested Boxplot of Price by Bedrooms')\n",
        "plt.xlabel('Bedrooms')\n",
        "plt.ylabel('Price')\n",
        "\n",
        "# Rotate x-axis labels if needed\n",
        "plt.xticks(rotation=45)\n",
        "\n",
        "# Show the plot\n",
        "plt.show()\n",
        "\n"
      ],
      "metadata": {
        "id": "elLqTJsZ8I-H"
      },
      "execution_count": null,
      "outputs": []
    },
    {
      "cell_type": "code",
      "source": [
        "bedrooms_stats = combined_df['bedrooms'].describe()\n",
        "print(bedrooms_stats)"
      ],
      "metadata": {
        "id": "vMQCKArrAEN6"
      },
      "execution_count": null,
      "outputs": []
    },
    {
      "cell_type": "code",
      "source": [
        "\n",
        "from sklearn.model_selection import train_test_split\n",
        "from sklearn.linear_model import LinearRegression\n",
        "from sklearn.metrics import mean_squared_error"
      ],
      "metadata": {
        "id": "FVJmjxHqYphd"
      },
      "execution_count": null,
      "outputs": []
    },
    {
      "cell_type": "code",
      "source": [
        "\n",
        "\n",
        "# Drop any rows with missing values in the \"accommodates\" column\n",
        "combined_df = combined_df.dropna(subset=['accommodates'])"
      ],
      "metadata": {
        "id": "a0ZpHn0kYyMi"
      },
      "execution_count": null,
      "outputs": []
    },
    {
      "cell_type": "code",
      "source": [
        "import matplotlib.pyplot as plt\n",
        "import seaborn as sns\n",
        "\n",
        "# Set the figure size to be 4 times wider\n",
        "plt.figure(figsize=(20, 5))\n",
        "\n",
        "# Visualize the relationship between \"accommodates\" and other variables using scatter plots or box plots\n",
        "sns.scatterplot(data=combined_df, x='bedrooms', y='accommodates', hue='property_type')\n",
        "plt.xlabel('Number of Bedrooms')\n",
        "plt.ylabel('Number of Accommodates')\n",
        "plt.title('Accommodates vs. Bedrooms by Property Type')\n",
        "plt.show()\n",
        "\n",
        "# Set the figure size to be three times wider\n",
        "plt.figure(figsize=(20, 5))\n",
        "\n",
        "sns.boxplot(data=combined_df, x='room_type', y='accommodates')\n",
        "plt.xlabel('Room Type')\n",
        "plt.ylabel('Number of Accommodates')\n",
        "plt.title('Accommodates by Room Type')\n",
        "plt.show()\n",
        "\n",
        "# Set the figure size to be three times wider\n",
        "plt.figure(figsize=(20, 5))\n",
        "\n",
        "sns.boxplot(data=combined_df, x='neighbourhood_cleansed', y='accommodates')\n",
        "plt.xticks(rotation=90)\n",
        "plt.xlabel('Neighborhood')\n",
        "plt.ylabel('Number of Accommodates')\n",
        "plt.title('Accommodates by Neighborhood')\n",
        "plt.show()\n",
        "\n"
      ],
      "metadata": {
        "id": "Tmf-qyLwZONF"
      },
      "execution_count": null,
      "outputs": []
    },
    {
      "cell_type": "code",
      "source": [
        "import pandas as pd\n",
        "import matplotlib.pyplot as plt\n",
        "import seaborn as sns\n",
        "from sklearn.model_selection import train_test_split\n",
        "from sklearn.linear_model import LinearRegression\n",
        "from sklearn.impute import SimpleImputer\n",
        "from sklearn.compose import ColumnTransformer\n",
        "from sklearn.pipeline import Pipeline\n",
        "from sklearn.preprocessing import OneHotEncoder\n",
        "\n",
        "# Data Preprocessing\n",
        "combined_df = combined_df.dropna(subset=['accommodates'])\n",
        "\n",
        "# Prepare the feature matrix (X) and target vector (y)\n",
        "X = combined_df[['property_type', 'room_type', 'bedrooms']]\n",
        "y = combined_df['accommodates']\n",
        "\n",
        "# Split the data into training and testing sets\n",
        "X_train, X_test, y_train, y_test = train_test_split(X, y, test_size=0.2, random_state=42)\n",
        "\n",
        "# Define imputer to handle missing values\n",
        "imputer = SimpleImputer(strategy='most_frequent')  # You can use 'mean', 'median', or 'most_frequent'\n",
        "\n",
        "# Define column transformer to apply imputer and one-hot encoding to specific columns\n",
        "preprocessor = ColumnTransformer(\n",
        "    transformers=[\n",
        "        ('num', imputer, ['bedrooms']),\n",
        "        ('cat', OneHotEncoder(handle_unknown='ignore'), ['property_type', 'room_type'])\n",
        "    ],\n",
        "    remainder='passthrough'  # Keeps other columns as they are\n",
        ")\n",
        "\n",
        "# Create the pipeline with preprocessing and linear regression model\n",
        "model = Pipeline(steps=[\n",
        "    ('preprocessor', preprocessor),\n",
        "    ('regressor', LinearRegression())\n",
        "])\n",
        "\n",
        "# Train the model\n",
        "model.fit(X_train, y_train)\n",
        "\n",
        "# Make predictions on the test set\n",
        "y_pred = model.predict(X_test)\n",
        "\n",
        "# Evaluate the model using mean squared error\n",
        "mse = mean_squared_error(y_test, y_pred)\n",
        "print(f\"Mean Squared Error: {mse}\")\n",
        "\n"
      ],
      "metadata": {
        "id": "Ox3V5OITZsjr"
      },
      "execution_count": null,
      "outputs": []
    },
    {
      "cell_type": "markdown",
      "source": [],
      "metadata": {
        "id": "9qV_1MmzaxB9"
      }
    },
    {
      "cell_type": "code",
      "source": [
        "print(combined_df['accommodates'].describe())\n"
      ],
      "metadata": {
        "id": "msJAUwHncAnQ"
      },
      "execution_count": null,
      "outputs": []
    }
  ]
}